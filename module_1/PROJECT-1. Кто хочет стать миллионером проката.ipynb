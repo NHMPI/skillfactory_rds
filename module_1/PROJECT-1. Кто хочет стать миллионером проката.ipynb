{
 "cells": [
  {
   "cell_type": "code",
   "execution_count": 1,
   "metadata": {
    "_cell_guid": "b1076dfc-b9ad-4769-8c92-a6c4dae69d19",
    "_uuid": "8f2839f25d086af736a60e9eeb907d3b93b6e0e5",
    "colab": {},
    "colab_type": "code",
    "id": "U2D2gTdJVp90"
   },
   "outputs": [],
   "source": [
    "import numpy as np\n",
    "import pandas as pd\n",
    "import seaborn as sns\n",
    "import matplotlib.pyplot as plt\n",
    "from collections import Counter\n",
    "from itertools import permutations\n",
    "from datetime import date"
   ]
  },
  {
   "cell_type": "code",
   "execution_count": 2,
   "metadata": {
    "_cell_guid": "79c7e3d0-c299-4dcb-8224-4455121ee9b0",
    "_uuid": "d629ff2d2480ee46fbb7e2d37f6b5fab8052498a",
    "colab": {},
    "colab_type": "code",
    "id": "oyGfxL3eVp9-"
   },
   "outputs": [
    {
     "data": {
      "text/html": [
       "<div>\n",
       "<style scoped>\n",
       "    .dataframe tbody tr th:only-of-type {\n",
       "        vertical-align: middle;\n",
       "    }\n",
       "\n",
       "    .dataframe tbody tr th {\n",
       "        vertical-align: top;\n",
       "    }\n",
       "\n",
       "    .dataframe thead th {\n",
       "        text-align: right;\n",
       "    }\n",
       "</style>\n",
       "<table border=\"1\" class=\"dataframe\">\n",
       "  <thead>\n",
       "    <tr style=\"text-align: right;\">\n",
       "      <th></th>\n",
       "      <th>imdb_id</th>\n",
       "      <th>budget</th>\n",
       "      <th>revenue</th>\n",
       "      <th>original_title</th>\n",
       "      <th>cast</th>\n",
       "      <th>director</th>\n",
       "      <th>tagline</th>\n",
       "      <th>overview</th>\n",
       "      <th>runtime</th>\n",
       "      <th>genres</th>\n",
       "      <th>production_companies</th>\n",
       "      <th>release_date</th>\n",
       "      <th>vote_average</th>\n",
       "      <th>release_year</th>\n",
       "    </tr>\n",
       "  </thead>\n",
       "  <tbody>\n",
       "    <tr>\n",
       "      <td>613</td>\n",
       "      <td>tt0411477</td>\n",
       "      <td>85000000</td>\n",
       "      <td>160388063</td>\n",
       "      <td>Hellboy II: The Golden Army</td>\n",
       "      <td>Ron Perlman|Selma Blair|Jeffrey Tambor|Doug Jo...</td>\n",
       "      <td>Guillermo del Toro</td>\n",
       "      <td>Saving the world is a hell of a job.</td>\n",
       "      <td>In this continuation to the adventure of the d...</td>\n",
       "      <td>120</td>\n",
       "      <td>Adventure|Fantasy|Science Fiction</td>\n",
       "      <td>Universal Pictures|Dark Horse Entertainment|La...</td>\n",
       "      <td>7/11/2008</td>\n",
       "      <td>6.4</td>\n",
       "      <td>2008</td>\n",
       "    </tr>\n",
       "    <tr>\n",
       "      <td>1392</td>\n",
       "      <td>tt0358273</td>\n",
       "      <td>28000000</td>\n",
       "      <td>186438883</td>\n",
       "      <td>Walk the Line</td>\n",
       "      <td>Joaquin Phoenix|Reese Witherspoon|Ginnifer Goo...</td>\n",
       "      <td>James Mangold</td>\n",
       "      <td>Love is a burning thing.</td>\n",
       "      <td>A chronicle of country music legend Johnny Cas...</td>\n",
       "      <td>136</td>\n",
       "      <td>Drama|Music|Romance</td>\n",
       "      <td>Tree Line Films|Konrad Pictures|Catfish Produc...</td>\n",
       "      <td>9/13/2005</td>\n",
       "      <td>7.0</td>\n",
       "      <td>2005</td>\n",
       "    </tr>\n",
       "    <tr>\n",
       "      <td>731</td>\n",
       "      <td>tt1570728</td>\n",
       "      <td>50000000</td>\n",
       "      <td>142851197</td>\n",
       "      <td>Crazy, Stupid, Love.</td>\n",
       "      <td>Steve Carell|Julianne Moore|Ryan Gosling|Emma ...</td>\n",
       "      <td>Glenn Ficarra|John Requa</td>\n",
       "      <td>This Is Stupid</td>\n",
       "      <td>Cal Weaver is living the American dream. He ha...</td>\n",
       "      <td>118</td>\n",
       "      <td>Comedy|Drama|Romance</td>\n",
       "      <td>Warner Bros.</td>\n",
       "      <td>7/29/2011</td>\n",
       "      <td>6.9</td>\n",
       "      <td>2011</td>\n",
       "    </tr>\n",
       "    <tr>\n",
       "      <td>1505</td>\n",
       "      <td>tt0466909</td>\n",
       "      <td>25000000</td>\n",
       "      <td>119188334</td>\n",
       "      <td>The Omen</td>\n",
       "      <td>Liev Schreiber|Julia Stiles|Seamus Davey-Fitzp...</td>\n",
       "      <td>John Moore</td>\n",
       "      <td>A new generation of terror</td>\n",
       "      <td>A diplomatic couple adopts the son of the devi...</td>\n",
       "      <td>110</td>\n",
       "      <td>Drama|Horror|Thriller</td>\n",
       "      <td>Twentieth Century Fox Film Corporation|11:11 M...</td>\n",
       "      <td>6/6/2006</td>\n",
       "      <td>5.2</td>\n",
       "      <td>2006</td>\n",
       "    </tr>\n",
       "    <tr>\n",
       "      <td>1659</td>\n",
       "      <td>tt0331953</td>\n",
       "      <td>8500000</td>\n",
       "      <td>5001655</td>\n",
       "      <td>Club Dread</td>\n",
       "      <td>Kevin Heffernan|Jay Chandrasekhar|Paul Soter|E...</td>\n",
       "      <td>Jay Chandrasekhar</td>\n",
       "      <td>A vacation to die for</td>\n",
       "      <td>When a serial killer interrupts the fun at the...</td>\n",
       "      <td>104</td>\n",
       "      <td>Comedy|Horror</td>\n",
       "      <td>Fox Searchlight Pictures|Broken Lizard Industr...</td>\n",
       "      <td>2/27/2004</td>\n",
       "      <td>5.1</td>\n",
       "      <td>2004</td>\n",
       "    </tr>\n",
       "  </tbody>\n",
       "</table>\n",
       "</div>"
      ],
      "text/plain": [
       "        imdb_id    budget    revenue               original_title  \\\n",
       "613   tt0411477  85000000  160388063  Hellboy II: The Golden Army   \n",
       "1392  tt0358273  28000000  186438883                Walk the Line   \n",
       "731   tt1570728  50000000  142851197         Crazy, Stupid, Love.   \n",
       "1505  tt0466909  25000000  119188334                     The Omen   \n",
       "1659  tt0331953   8500000    5001655                   Club Dread   \n",
       "\n",
       "                                                   cast  \\\n",
       "613   Ron Perlman|Selma Blair|Jeffrey Tambor|Doug Jo...   \n",
       "1392  Joaquin Phoenix|Reese Witherspoon|Ginnifer Goo...   \n",
       "731   Steve Carell|Julianne Moore|Ryan Gosling|Emma ...   \n",
       "1505  Liev Schreiber|Julia Stiles|Seamus Davey-Fitzp...   \n",
       "1659  Kevin Heffernan|Jay Chandrasekhar|Paul Soter|E...   \n",
       "\n",
       "                      director                               tagline  \\\n",
       "613         Guillermo del Toro  Saving the world is a hell of a job.   \n",
       "1392             James Mangold              Love is a burning thing.   \n",
       "731   Glenn Ficarra|John Requa                        This Is Stupid   \n",
       "1505                John Moore            A new generation of terror   \n",
       "1659         Jay Chandrasekhar                 A vacation to die for   \n",
       "\n",
       "                                               overview  runtime  \\\n",
       "613   In this continuation to the adventure of the d...      120   \n",
       "1392  A chronicle of country music legend Johnny Cas...      136   \n",
       "731   Cal Weaver is living the American dream. He ha...      118   \n",
       "1505  A diplomatic couple adopts the son of the devi...      110   \n",
       "1659  When a serial killer interrupts the fun at the...      104   \n",
       "\n",
       "                                 genres  \\\n",
       "613   Adventure|Fantasy|Science Fiction   \n",
       "1392                Drama|Music|Romance   \n",
       "731                Comedy|Drama|Romance   \n",
       "1505              Drama|Horror|Thriller   \n",
       "1659                      Comedy|Horror   \n",
       "\n",
       "                                   production_companies release_date  \\\n",
       "613   Universal Pictures|Dark Horse Entertainment|La...    7/11/2008   \n",
       "1392  Tree Line Films|Konrad Pictures|Catfish Produc...    9/13/2005   \n",
       "731                                        Warner Bros.    7/29/2011   \n",
       "1505  Twentieth Century Fox Film Corporation|11:11 M...     6/6/2006   \n",
       "1659  Fox Searchlight Pictures|Broken Lizard Industr...    2/27/2004   \n",
       "\n",
       "      vote_average  release_year  \n",
       "613            6.4          2008  \n",
       "1392           7.0          2005  \n",
       "731            6.9          2011  \n",
       "1505           5.2          2006  \n",
       "1659           5.1          2004  "
      ]
     },
     "execution_count": 2,
     "metadata": {},
     "output_type": "execute_result"
    }
   ],
   "source": [
    "data = pd.read_csv('movie_bd_v5.xls')\n",
    "data.sample(5)"
   ]
  },
  {
   "cell_type": "code",
   "execution_count": 3,
   "metadata": {
    "colab": {},
    "colab_type": "code",
    "id": "CoYUnagMVp-C"
   },
   "outputs": [
    {
     "data": {
      "text/html": [
       "<div>\n",
       "<style scoped>\n",
       "    .dataframe tbody tr th:only-of-type {\n",
       "        vertical-align: middle;\n",
       "    }\n",
       "\n",
       "    .dataframe tbody tr th {\n",
       "        vertical-align: top;\n",
       "    }\n",
       "\n",
       "    .dataframe thead th {\n",
       "        text-align: right;\n",
       "    }\n",
       "</style>\n",
       "<table border=\"1\" class=\"dataframe\">\n",
       "  <thead>\n",
       "    <tr style=\"text-align: right;\">\n",
       "      <th></th>\n",
       "      <th>budget</th>\n",
       "      <th>revenue</th>\n",
       "      <th>runtime</th>\n",
       "      <th>vote_average</th>\n",
       "      <th>release_year</th>\n",
       "    </tr>\n",
       "  </thead>\n",
       "  <tbody>\n",
       "    <tr>\n",
       "      <td>count</td>\n",
       "      <td>1.889000e+03</td>\n",
       "      <td>1.889000e+03</td>\n",
       "      <td>1889.000000</td>\n",
       "      <td>1889.000000</td>\n",
       "      <td>1889.000000</td>\n",
       "    </tr>\n",
       "    <tr>\n",
       "      <td>mean</td>\n",
       "      <td>5.431083e+07</td>\n",
       "      <td>1.553653e+08</td>\n",
       "      <td>109.658549</td>\n",
       "      <td>6.140762</td>\n",
       "      <td>2007.860773</td>\n",
       "    </tr>\n",
       "    <tr>\n",
       "      <td>std</td>\n",
       "      <td>4.858721e+07</td>\n",
       "      <td>2.146698e+08</td>\n",
       "      <td>18.017041</td>\n",
       "      <td>0.764763</td>\n",
       "      <td>4.468841</td>\n",
       "    </tr>\n",
       "    <tr>\n",
       "      <td>min</td>\n",
       "      <td>5.000000e+06</td>\n",
       "      <td>2.033165e+06</td>\n",
       "      <td>63.000000</td>\n",
       "      <td>3.300000</td>\n",
       "      <td>2000.000000</td>\n",
       "    </tr>\n",
       "    <tr>\n",
       "      <td>25%</td>\n",
       "      <td>2.000000e+07</td>\n",
       "      <td>3.456058e+07</td>\n",
       "      <td>97.000000</td>\n",
       "      <td>5.600000</td>\n",
       "      <td>2004.000000</td>\n",
       "    </tr>\n",
       "    <tr>\n",
       "      <td>50%</td>\n",
       "      <td>3.800000e+07</td>\n",
       "      <td>8.361541e+07</td>\n",
       "      <td>107.000000</td>\n",
       "      <td>6.100000</td>\n",
       "      <td>2008.000000</td>\n",
       "    </tr>\n",
       "    <tr>\n",
       "      <td>75%</td>\n",
       "      <td>7.200000e+07</td>\n",
       "      <td>1.782626e+08</td>\n",
       "      <td>120.000000</td>\n",
       "      <td>6.600000</td>\n",
       "      <td>2012.000000</td>\n",
       "    </tr>\n",
       "    <tr>\n",
       "      <td>max</td>\n",
       "      <td>3.800000e+08</td>\n",
       "      <td>2.781506e+09</td>\n",
       "      <td>214.000000</td>\n",
       "      <td>8.100000</td>\n",
       "      <td>2015.000000</td>\n",
       "    </tr>\n",
       "  </tbody>\n",
       "</table>\n",
       "</div>"
      ],
      "text/plain": [
       "             budget       revenue      runtime  vote_average  release_year\n",
       "count  1.889000e+03  1.889000e+03  1889.000000   1889.000000   1889.000000\n",
       "mean   5.431083e+07  1.553653e+08   109.658549      6.140762   2007.860773\n",
       "std    4.858721e+07  2.146698e+08    18.017041      0.764763      4.468841\n",
       "min    5.000000e+06  2.033165e+06    63.000000      3.300000   2000.000000\n",
       "25%    2.000000e+07  3.456058e+07    97.000000      5.600000   2004.000000\n",
       "50%    3.800000e+07  8.361541e+07   107.000000      6.100000   2008.000000\n",
       "75%    7.200000e+07  1.782626e+08   120.000000      6.600000   2012.000000\n",
       "max    3.800000e+08  2.781506e+09   214.000000      8.100000   2015.000000"
      ]
     },
     "execution_count": 3,
     "metadata": {},
     "output_type": "execute_result"
    }
   ],
   "source": [
    "data.describe()"
   ]
  },
  {
   "cell_type": "markdown",
   "metadata": {
    "colab_type": "text",
    "id": "DTIt7ezGVp-G"
   },
   "source": [
    "# Предобработка"
   ]
  },
  {
   "cell_type": "code",
   "execution_count": 39,
   "metadata": {
    "colab": {},
    "colab_type": "code",
    "id": "jNb40DwKVp-H"
   },
   "outputs": [
    {
     "data": {
      "text/plain": [
       "0       [Action, Adventure, Science Fiction, Thriller]\n",
       "1       [Action, Adventure, Science Fiction, Thriller]\n",
       "2               [Adventure, Science Fiction, Thriller]\n",
       "3        [Action, Adventure, Science Fiction, Fantasy]\n",
       "4                            [Action, Crime, Thriller]\n",
       "                             ...                      \n",
       "1884              [Adventure, Action, Science Fiction]\n",
       "1885                         [Horror, Family, Foreign]\n",
       "1886    [Adventure, Animation, Action, Comedy, Family]\n",
       "1887                                   [Comedy, Drama]\n",
       "1888                                        [Thriller]\n",
       "Name: genres_list, Length: 1889, dtype: object"
      ]
     },
     "metadata": {},
     "output_type": "display_data"
    },
    {
     "data": {
      "text/plain": [
       "0       [Chris Pratt, Bryce Dallas Howard, Irrfan Khan...\n",
       "1       [Tom Hardy, Charlize Theron, Hugh Keays-Byrne,...\n",
       "2       [Shailene Woodley, Theo James, Kate Winslet, A...\n",
       "3       [Harrison Ford, Mark Hamill, Carrie Fisher, Ad...\n",
       "4       [Vin Diesel, Paul Walker, Jason Statham, Miche...\n",
       "                              ...                        \n",
       "1884    [Patrick Stewart, Hugh Jackman, Ian McKellen, ...\n",
       "1885    [Richard E. Grant, Jonathan Lipnicki, Jim Cart...\n",
       "1886    [Rene Russo, Jason Alexander, Piper Perabo, Ra...\n",
       "1887    [Meg Ryan, Diane Keaton, Lisa Kudrow, Walter M...\n",
       "1888    [Susan Ward, Lori Heuring, Matthew Settle, Nat...\n",
       "Name: cast_list, Length: 1889, dtype: object"
      ]
     },
     "metadata": {},
     "output_type": "display_data"
    },
    {
     "data": {
      "text/plain": [
       "0       [Universal Studios, Amblin Entertainment, Lege...\n",
       "1       [Village Roadshow Pictures, Kennedy Miller Pro...\n",
       "2       [Summit Entertainment, Mandeville Films, Red W...\n",
       "3           [Lucasfilm, Truenorth Productions, Bad Robot]\n",
       "4       [Universal Pictures, Original Film, Media Righ...\n",
       "                              ...                        \n",
       "1884    [Twentieth Century Fox Film Corporation, Donne...\n",
       "1885                                    [New Line Cinema]\n",
       "1886    [Universal Pictures, Capella International, KC...\n",
       "1887    [Laurence Mark Productions, Columbia Pictures ...\n",
       "1888                                        [Warner Bros]\n",
       "Name: companies_list, Length: 1889, dtype: object"
      ]
     },
     "metadata": {},
     "output_type": "display_data"
    },
    {
     "data": {
      "text/plain": [
       "0       2015-06-09\n",
       "1       2015-05-13\n",
       "2       2015-03-18\n",
       "3       2015-12-15\n",
       "4       2015-04-01\n",
       "           ...    \n",
       "1884    2000-07-13\n",
       "1885    2000-10-27\n",
       "1886    2000-06-30\n",
       "1887    2000-02-16\n",
       "1888    2000-07-19\n",
       "Name: release_pydate, Length: 1889, dtype: object"
      ]
     },
     "metadata": {},
     "output_type": "display_data"
    }
   ],
   "source": [
    "def company_name_correction(name):\n",
    "    \"\"\"Преобразование имен компаний к единому имени\"\"\"    \n",
    "    if name.find('Warner Bros') >= 0:   # все компании, вроде 'Warner Bros.' 'Warner Bros. Pictures' и т.д.\n",
    "        return 'Warner Bros'            # будут иметь общее имя 'Warner Bros'\n",
    "    else:\n",
    "        return name                     # имена других компаний оставляем как есть\n",
    "    \n",
    "    \n",
    "answers = {} # создадим словарь для ответов\n",
    "    \n",
    "# ниже производится добавление вспомогательных столбцов в датафрейм data\n",
    "# вычисление прибыли фильма\n",
    "data['profit'] = data['revenue'] - data['budget']\n",
    "        \n",
    "# преобразование строки жанров в список жанров\n",
    "data['genres_list'] = data['genres'].str.split('|')\n",
    "display(data['genres_list'])\n",
    "\n",
    "# то же самое для строки актеров\n",
    "data['cast_list'] = data['cast'].str.split('|')\n",
    "display(data['cast_list'])\n",
    "\n",
    "# то же самое для компаний, при этом производится исправление имени компании Warner Bros\n",
    "data['companies_list'] = data['production_companies'].str.split('|').apply(lambda lst: [company_name_correction(name) for name in lst])\n",
    "display(data['companies_list'])\n",
    "\n",
    "# преобразование в формат python date (с перестановкой местами дня, месяца, года)\n",
    "data['release_pydate'] = data['release_date'].str.split('/').apply(lambda d: date(int(d[2]), int(d[0]), int(d[1])))\n",
    "display(data['release_pydate'])"
   ]
  },
  {
   "cell_type": "markdown",
   "metadata": {
    "colab_type": "text",
    "id": "YxZaH-nPVp-L"
   },
   "source": [
    "# 1. У какого фильма из списка самый большой бюджет?"
   ]
  },
  {
   "cell_type": "markdown",
   "metadata": {
    "colab_type": "text",
    "id": "Nd-G5gX6Vp-M"
   },
   "source": [
    "Использовать варианты ответов в коде решения запрещено.    \n",
    "Вы думаете и в жизни у вас будут варианты ответов?)"
   ]
  },
  {
   "cell_type": "code",
   "execution_count": 5,
   "metadata": {
    "colab": {},
    "colab_type": "code",
    "id": "dZwb3m28Vp-S"
   },
   "outputs": [
    {
     "data": {
      "text/plain": [
       "'Pirates of the Caribbean: On Stranger Tides'"
      ]
     },
     "metadata": {},
     "output_type": "display_data"
    }
   ],
   "source": [
    "answers['1'] = data.loc[data['budget'].idxmax()]['original_title']\n",
    "display(answers['1'])"
   ]
  },
  {
   "cell_type": "markdown",
   "metadata": {
    "colab_type": "text",
    "id": "FNRbbI3vVp-c"
   },
   "source": [
    "# 2. Какой из фильмов самый длительный (в минутах)?"
   ]
  },
  {
   "cell_type": "code",
   "execution_count": 6,
   "metadata": {
    "colab": {},
    "colab_type": "code",
    "id": "ot-VX2XrVp-g"
   },
   "outputs": [
    {
     "data": {
      "text/plain": [
       "'Gods and Generals'"
      ]
     },
     "metadata": {},
     "output_type": "display_data"
    }
   ],
   "source": [
    "answers['2'] = data.loc[data['runtime'].idxmax()]['original_title']\n",
    "display(answers['2'])"
   ]
  },
  {
   "cell_type": "markdown",
   "metadata": {
    "colab_type": "text",
    "id": "bapLlpW8Vp-k"
   },
   "source": [
    "# 3. Какой из фильмов самый короткий (в минутах)?\n",
    "\n",
    "\n",
    "\n"
   ]
  },
  {
   "cell_type": "code",
   "execution_count": 7,
   "metadata": {
    "colab": {},
    "colab_type": "code",
    "id": "YBxaSHuAVp-l"
   },
   "outputs": [
    {
     "data": {
      "text/plain": [
       "'Winnie the Pooh'"
      ]
     },
     "metadata": {},
     "output_type": "display_data"
    }
   ],
   "source": [
    "answers['3'] = data.loc[data['runtime'].idxmin()]['original_title']\n",
    "display(answers['3'])"
   ]
  },
  {
   "cell_type": "markdown",
   "metadata": {
    "colab_type": "text",
    "id": "TfQbxbfNVp-p"
   },
   "source": [
    "# 4. Какова средняя длительность фильмов?\n"
   ]
  },
  {
   "cell_type": "code",
   "execution_count": 8,
   "metadata": {
    "colab": {},
    "colab_type": "code",
    "id": "5K6dKZYVVp-q"
   },
   "outputs": [
    {
     "data": {
      "text/plain": [
       "110.0"
      ]
     },
     "metadata": {},
     "output_type": "display_data"
    }
   ],
   "source": [
    "answers['4'] = np.round(data['runtime'].mean())\n",
    "display(answers['4'])"
   ]
  },
  {
   "cell_type": "markdown",
   "metadata": {
    "colab_type": "text",
    "id": "r5TvbnT_Vp-u"
   },
   "source": [
    "# 5. Каково медианное значение длительности фильмов? "
   ]
  },
  {
   "cell_type": "code",
   "execution_count": 9,
   "metadata": {
    "colab": {},
    "colab_type": "code",
    "id": "iBROplKnVp-v"
   },
   "outputs": [
    {
     "data": {
      "text/plain": [
       "107.0"
      ]
     },
     "metadata": {},
     "output_type": "display_data"
    }
   ],
   "source": [
    "answers['5'] = data['runtime'].median()\n",
    "display(answers['5'])"
   ]
  },
  {
   "cell_type": "markdown",
   "metadata": {
    "colab_type": "text",
    "id": "39P-deDSVp-y"
   },
   "source": [
    "# 6. Какой самый прибыльный фильм?\n",
    "#### Внимание! Здесь и далее под «прибылью» или «убытками» понимается разность между сборами и бюджетом фильма. (прибыль = сборы - бюджет) в нашем датасете это будет (profit = revenue - budget) "
   ]
  },
  {
   "cell_type": "code",
   "execution_count": 10,
   "metadata": {
    "colab": {},
    "colab_type": "code",
    "id": "UYZh4T9WVp-y"
   },
   "outputs": [
    {
     "data": {
      "text/plain": [
       "'Avatar'"
      ]
     },
     "metadata": {},
     "output_type": "display_data"
    }
   ],
   "source": [
    "answers['6'] = data.loc[data['profit'].idxmax()]['original_title']\n",
    "display(answers['6'])"
   ]
  },
  {
   "cell_type": "markdown",
   "metadata": {
    "colab_type": "text",
    "id": "M99JmIX4Vp-2"
   },
   "source": [
    "# 7. Какой фильм самый убыточный? "
   ]
  },
  {
   "cell_type": "code",
   "execution_count": 11,
   "metadata": {
    "colab": {},
    "colab_type": "code",
    "id": "w-D2m4XPVp-3"
   },
   "outputs": [
    {
     "data": {
      "text/plain": [
       "'The Lone Ranger'"
      ]
     },
     "metadata": {},
     "output_type": "display_data"
    }
   ],
   "source": [
    "answers['7'] = data.loc[data['profit'].idxmin()]['original_title']\n",
    "display(answers['7'])"
   ]
  },
  {
   "cell_type": "markdown",
   "metadata": {
    "colab_type": "text",
    "id": "wEOM5ERVVp-6"
   },
   "source": [
    "# 8. У скольких фильмов из датасета объем сборов оказался выше бюджета?"
   ]
  },
  {
   "cell_type": "code",
   "execution_count": 12,
   "metadata": {
    "colab": {},
    "colab_type": "code",
    "id": "y00_7HD6Vp-7"
   },
   "outputs": [
    {
     "data": {
      "text/plain": [
       "1478"
      ]
     },
     "metadata": {},
     "output_type": "display_data"
    }
   ],
   "source": [
    "answers['8'] = len(data[data['profit'] > 0])\n",
    "display(answers['8'])"
   ]
  },
  {
   "cell_type": "markdown",
   "metadata": {
    "colab_type": "text",
    "id": "xhpspA9KVp_A"
   },
   "source": [
    "# 9. Какой фильм оказался самым кассовым в 2008 году?"
   ]
  },
  {
   "cell_type": "code",
   "execution_count": 13,
   "metadata": {
    "colab": {},
    "colab_type": "code",
    "id": "MoUyQr9RVp_B"
   },
   "outputs": [
    {
     "data": {
      "text/plain": [
       "'The Dark Knight'"
      ]
     },
     "metadata": {},
     "output_type": "display_data"
    }
   ],
   "source": [
    "answers['9'] = data.loc[data[data['release_pydate'].apply(lambda d: d.year == 2008)]['revenue'].idxmax()]['original_title']\n",
    "display(answers['9'])"
   ]
  },
  {
   "cell_type": "markdown",
   "metadata": {
    "colab_type": "text",
    "id": "Zi4hDKidVp_F"
   },
   "source": [
    "# 10. Самый убыточный фильм за период с 2012 по 2014 г. (включительно)?\n"
   ]
  },
  {
   "cell_type": "code",
   "execution_count": 14,
   "metadata": {
    "colab": {},
    "colab_type": "code",
    "id": "XqyRmufJVp_F"
   },
   "outputs": [
    {
     "data": {
      "text/plain": [
       "'The Lone Ranger'"
      ]
     },
     "metadata": {},
     "output_type": "display_data"
    }
   ],
   "source": [
    "answers['10'] = data.loc[data[data['release_pydate'].apply(lambda d: d.year in [2012, 2013, 2014])]['profit'].idxmin()]['original_title']\n",
    "display(answers['10'])"
   ]
  },
  {
   "cell_type": "markdown",
   "metadata": {
    "colab_type": "text",
    "id": "EA7Sa9dkVp_I"
   },
   "source": [
    "# 11. Какого жанра фильмов больше всего?"
   ]
  },
  {
   "cell_type": "code",
   "execution_count": 16,
   "metadata": {
    "colab": {},
    "colab_type": "code",
    "id": "otO3SbrSVp_N"
   },
   "outputs": [
    {
     "data": {
      "text/plain": [
       "'Drama'"
      ]
     },
     "metadata": {},
     "output_type": "display_data"
    }
   ],
   "source": [
    "genre_counter = Counter() # счетчик фильмов для каждого жанра по отдельности\n",
    "for genres_list in data['genres_list']:\n",
    "    for genre in genres_list:\n",
    "        genre_counter[genre] += 1\n",
    "\n",
    "answers['11'] = genre_counter.most_common(1)[0][0]\n",
    "display(answers['11'])"
   ]
  },
  {
   "cell_type": "markdown",
   "metadata": {
    "colab_type": "text",
    "id": "T9_bPWpkVp_Q"
   },
   "source": [
    "# 12. Фильмы какого жанра чаще всего становятся прибыльными? "
   ]
  },
  {
   "cell_type": "code",
   "execution_count": 17,
   "metadata": {
    "colab": {},
    "colab_type": "code",
    "id": "Tmt8MaK1Vp_R"
   },
   "outputs": [
    {
     "data": {
      "text/plain": [
       "'Drama'"
      ]
     },
     "metadata": {},
     "output_type": "display_data"
    }
   ],
   "source": [
    "profit_genre_counter = Counter() # счетчик прибыльных фильмов для каждого жанра по отдельности\n",
    "for genres_list in data[data['profit'] > 0]['genres_list']:\n",
    "    for genre in genres_list:\n",
    "        profit_genre_counter[genre] += 1\n",
    "\n",
    "answers['12'] = profit_genre_counter.most_common(1)[0][0]\n",
    "display(answers['12'])"
   ]
  },
  {
   "cell_type": "markdown",
   "metadata": {
    "colab_type": "text",
    "id": "0F23bgsDVp_U"
   },
   "source": [
    "# 13. У какого режиссера самые большие суммарные кассовые сборы?"
   ]
  },
  {
   "cell_type": "code",
   "execution_count": 18,
   "metadata": {
    "colab": {},
    "colab_type": "code",
    "id": "K6Z3J8ygVp_X"
   },
   "outputs": [
    {
     "data": {
      "text/plain": [
       "'Peter Jackson'"
      ]
     },
     "metadata": {},
     "output_type": "display_data"
    }
   ],
   "source": [
    "answers['13'] = data.groupby(['director'])['revenue'].sum().idxmax()\n",
    "display(answers['13'])"
   ]
  },
  {
   "cell_type": "markdown",
   "metadata": {
    "colab_type": "text",
    "id": "PsYC9FgRVp_a"
   },
   "source": [
    "# 14. Какой режисер снял больше всего фильмов в стиле Action?"
   ]
  },
  {
   "cell_type": "code",
   "execution_count": 19,
   "metadata": {
    "colab": {},
    "colab_type": "code",
    "id": "wd2M-wHeVp_b"
   },
   "outputs": [
    {
     "data": {
      "text/plain": [
       "'Michael Bay'"
      ]
     },
     "metadata": {},
     "output_type": "display_data"
    }
   ],
   "source": [
    "answers['14'] = data[data['genres_list'].apply(lambda g_list: 'Action' in g_list)].groupby(['director']).apply(len).idxmax()\n",
    "display(answers['14'])"
   ]
  },
  {
   "cell_type": "markdown",
   "metadata": {
    "colab_type": "text",
    "id": "PQ0KciD7Vp_f"
   },
   "source": [
    "# 15. Фильмы с каким актером принесли самые высокие кассовые сборы в 2012 году? "
   ]
  },
  {
   "cell_type": "code",
   "execution_count": 20,
   "metadata": {
    "colab": {},
    "colab_type": "code",
    "id": "aga62oeKVp_g"
   },
   "outputs": [
    {
     "data": {
      "text/plain": [
       "'Chris Hemsworth'"
      ]
     },
     "metadata": {},
     "output_type": "display_data"
    }
   ],
   "source": [
    "actor_revenue_counter = Counter() # счетчик суммарных кассовых расходов для каждого актера, снимавшегося в 2012 году\n",
    "for key, cast_list in data[data['release_pydate'].apply(lambda d: d.year == 2012)]['cast_list'].items():\n",
    "    for actor in cast_list:\n",
    "        actor_revenue_counter[actor] += data['revenue'][key]\n",
    "\n",
    "answers['15'] = actor_revenue_counter.most_common(1)[0][0]\n",
    "display(answers['15'])"
   ]
  },
  {
   "cell_type": "markdown",
   "metadata": {
    "colab_type": "text",
    "id": "mWHyyL7QVp_j"
   },
   "source": [
    "# 16. Какой актер снялся в большем количестве высокобюджетных фильмов?"
   ]
  },
  {
   "cell_type": "code",
   "execution_count": 21,
   "metadata": {
    "colab": {},
    "colab_type": "code",
    "id": "qQtmHKTFVp_k"
   },
   "outputs": [
    {
     "data": {
      "text/plain": [
       "'Matt Damon'"
      ]
     },
     "metadata": {},
     "output_type": "display_data"
    }
   ],
   "source": [
    "actor_film_counter = Counter() # счетчик высокобюджетных фильмов для каждого актера\n",
    "for cast_list in data[data['budget'] > data['budget'].mean()]['cast_list']:\n",
    "    for actor in cast_list:\n",
    "        actor_film_counter[actor] += 1\n",
    "\n",
    "answers['16'] = actor_film_counter.most_common(1)[0][0]\n",
    "display(answers['16'])"
   ]
  },
  {
   "cell_type": "markdown",
   "metadata": {
    "colab_type": "text",
    "id": "NIh6AaW5Vp_n"
   },
   "source": [
    "# 17. В фильмах какого жанра больше всего снимался Nicolas Cage? "
   ]
  },
  {
   "cell_type": "code",
   "execution_count": 22,
   "metadata": {
    "colab": {},
    "colab_type": "code",
    "id": "H74SJDIBVp_n"
   },
   "outputs": [
    {
     "data": {
      "text/plain": [
       "'Action'"
      ]
     },
     "metadata": {},
     "output_type": "display_data"
    }
   ],
   "source": [
    "nc_genres_counter = Counter() # счетчик жанров Николаса Кейджа\n",
    "for genres_list in data[data['cast_list'].apply(lambda c_list: 'Nicolas Cage' in c_list)]['genres_list']:\n",
    "    for genre in genres_list:\n",
    "        nc_genres_counter[genre] += 1\n",
    "    \n",
    "answers['17'] = nc_genres_counter.most_common(1)[0][0]\n",
    "display(answers['17'])"
   ]
  },
  {
   "cell_type": "markdown",
   "metadata": {
    "colab_type": "text",
    "id": "RqOmPRfWVp_q"
   },
   "source": [
    "# 18. Самый убыточный фильм от Paramount Pictures"
   ]
  },
  {
   "cell_type": "code",
   "execution_count": 23,
   "metadata": {
    "colab": {},
    "colab_type": "code",
    "id": "9E_B0Y96Vp_r"
   },
   "outputs": [
    {
     "data": {
      "text/plain": [
       "'K-19: The Widowmaker'"
      ]
     },
     "metadata": {},
     "output_type": "display_data"
    }
   ],
   "source": [
    "answers['18'] = data.loc[data[data['companies_list'].apply(lambda c_list: 'Paramount Pictures' in c_list)]['profit'].idxmin()]['original_title']\n",
    "display(answers['18'])"
   ]
  },
  {
   "cell_type": "markdown",
   "metadata": {
    "colab_type": "text",
    "id": "vS8Ur6ddVp_u"
   },
   "source": [
    "# 19. Какой год стал самым успешным по суммарным кассовым сборам?"
   ]
  },
  {
   "cell_type": "code",
   "execution_count": 24,
   "metadata": {
    "colab": {},
    "colab_type": "code",
    "id": "Dnbt4GdIVp_v"
   },
   "outputs": [
    {
     "data": {
      "text/plain": [
       "2015"
      ]
     },
     "metadata": {},
     "output_type": "display_data"
    }
   ],
   "source": [
    "answers['19'] = data.groupby(by=data['release_pydate'].apply(lambda d: d.year))['revenue'].sum().idxmax()\n",
    "display(answers['19'])"
   ]
  },
  {
   "cell_type": "markdown",
   "metadata": {
    "colab_type": "text",
    "id": "JAzJh4QAVp_z"
   },
   "source": [
    "# 20. Какой самый прибыльный год для студии Warner Bros?"
   ]
  },
  {
   "cell_type": "code",
   "execution_count": 25,
   "metadata": {
    "colab": {},
    "colab_type": "code",
    "id": "wgVu02DEVp_0"
   },
   "outputs": [
    {
     "data": {
      "text/plain": [
       "2014"
      ]
     },
     "metadata": {},
     "output_type": "display_data"
    }
   ],
   "source": [
    "answers['20'] = data[data['companies_list'].apply(lambda c_list: 'Warner Bros' in c_list)].groupby(by=data['release_pydate'].apply(lambda d: d.year))['profit'].sum().idxmax()\n",
    "display(answers['20'])"
   ]
  },
  {
   "cell_type": "markdown",
   "metadata": {
    "colab_type": "text",
    "id": "8Im1S2HRVp_4"
   },
   "source": [
    "# 21. В каком месяце за все годы суммарно вышло больше всего фильмов?"
   ]
  },
  {
   "cell_type": "code",
   "execution_count": 26,
   "metadata": {
    "colab": {},
    "colab_type": "code",
    "id": "lev6TH7gVp_4"
   },
   "outputs": [
    {
     "data": {
      "text/plain": [
       "9"
      ]
     },
     "metadata": {},
     "output_type": "display_data"
    }
   ],
   "source": [
    "answers['21'] = data.groupby(by=data['release_pydate'].apply(lambda d: d.month)).apply(len).idxmax()\n",
    "display(answers['21'])"
   ]
  },
  {
   "cell_type": "markdown",
   "metadata": {
    "colab_type": "text",
    "id": "uAJsZ_NeVp_7"
   },
   "source": [
    "# 22. Сколько суммарно вышло фильмов летом? (за июнь, июль, август)"
   ]
  },
  {
   "cell_type": "code",
   "execution_count": 27,
   "metadata": {
    "colab": {},
    "colab_type": "code",
    "id": "Aa-hEREoVp_8"
   },
   "outputs": [
    {
     "data": {
      "text/plain": [
       "450"
      ]
     },
     "metadata": {},
     "output_type": "display_data"
    }
   ],
   "source": [
    "answers['22'] = len(data[data['release_pydate'].apply(lambda d: d.month in [6, 7, 8])])\n",
    "display(answers['22'])"
   ]
  },
  {
   "cell_type": "markdown",
   "metadata": {
    "colab_type": "text",
    "id": "G94ppOY1VqAA"
   },
   "source": [
    "# 23. Для какого режиссера зима – самое продуктивное время года? "
   ]
  },
  {
   "cell_type": "code",
   "execution_count": 28,
   "metadata": {
    "colab": {},
    "colab_type": "code",
    "id": "RhNTsamuVqAB"
   },
   "outputs": [
    {
     "data": {
      "text/plain": [
       "'Peter Jackson'"
      ]
     },
     "metadata": {},
     "output_type": "display_data"
    }
   ],
   "source": [
    "answers['23'] = data[data['release_pydate'].apply(lambda d: d.month in [12, 1, 2])].groupby(['director']).apply(len).idxmax()\n",
    "display(answers['23'])"
   ]
  },
  {
   "cell_type": "markdown",
   "metadata": {
    "colab_type": "text",
    "id": "RBo0JVjVVqAF"
   },
   "source": [
    "# 24. Какая студия дает самые длинные названия своим фильмам по количеству символов?"
   ]
  },
  {
   "cell_type": "code",
   "execution_count": 29,
   "metadata": {
    "colab": {},
    "colab_type": "code",
    "id": "QRGS8L0iVqAG"
   },
   "outputs": [
    {
     "data": {
      "text/plain": [
       "'Four By Two Productions'"
      ]
     },
     "metadata": {},
     "output_type": "display_data"
    }
   ],
   "source": [
    "film_counter = Counter() # счетчик количества фильмов для каждой компании\n",
    "title_length_counter = Counter() # счетчик суммарной длины названий фильмов для каждой компании\n",
    "for key, companies_list in data['companies_list'].items():\n",
    "    for company in companies_list:\n",
    "        film_counter[company] += 1\n",
    "        title_length_counter[company] += len(data.loc[key]['original_title'])\n",
    "        \n",
    "# заполняется список списков средних длин названий фильмов для каждой компании\n",
    "mean_title_length = [] \n",
    "for company in film_counter.keys(): # в счетчиках уже все компании посчитаны\n",
    "    mean_title_length.append([company, title_length_counter[company] / film_counter[company]])\n",
    "\n",
    "#список списков => датафрейм    \n",
    "mtl_df = pd.DataFrame(mean_title_length, columns=['company', 'mean_title_length']) \n",
    "\n",
    "answers['24'] = mtl_df[mtl_df['mean_title_length'] == mtl_df['mean_title_length'].max()]['company'].values[0]\n",
    "display(answers['24'])"
   ]
  },
  {
   "cell_type": "markdown",
   "metadata": {
    "colab_type": "text",
    "id": "9G0hbvR7VqAK"
   },
   "source": [
    "# 25. Описание фильмов какой студии в среднем самые длинные по количеству слов?"
   ]
  },
  {
   "cell_type": "code",
   "execution_count": 30,
   "metadata": {
    "colab": {},
    "colab_type": "code",
    "id": "Ge2GsLNxVqAK"
   },
   "outputs": [
    {
     "data": {
      "text/plain": [
       "'Midnight Picture Show'"
      ]
     },
     "metadata": {},
     "output_type": "display_data"
    }
   ],
   "source": [
    "overview_length_counter = Counter() # счетчик количества слов в описании фильма для каждой компании\n",
    "# далее счетчик film_counter не вычисляется, используется результат вычисления в предыдущей задаче\n",
    "for key, companies_list in data['companies_list'].items():\n",
    "    for company in companies_list:\n",
    "        overview_length_counter[company] += len(data.loc[key]['overview'].split())\n",
    "        \n",
    "# заполняется список списков средних количеств слов в описании для каждой компании\n",
    "mean_overview_length = [] \n",
    "for company in film_counter.keys(): # в счетчиках уже все компании посчитаны\n",
    "    mean_overview_length.append([company, overview_length_counter[company] / film_counter[company]])\n",
    "\n",
    "#список списков => датафрейм    \n",
    "mol_df = pd.DataFrame(mean_overview_length, columns=['company', 'mean_overview_length']) \n",
    "\n",
    "answers['25'] = mol_df[mol_df['mean_overview_length'] == mol_df['mean_overview_length'].max()]['company'].values[0]\n",
    "display(answers['25'])"
   ]
  },
  {
   "cell_type": "markdown",
   "metadata": {
    "colab_type": "text",
    "id": "FJ1AFt90VqAP"
   },
   "source": [
    "# 26. Какие фильмы входят в 1 процент лучших по рейтингу? \n",
    "по vote_average"
   ]
  },
  {
   "cell_type": "code",
   "execution_count": 38,
   "metadata": {
    "colab": {},
    "colab_type": "code",
    "id": "8qmJVq4CVqAQ"
   },
   "outputs": [
    {
     "name": "stdout",
     "output_type": "stream",
     "text": [
      "18\n"
     ]
    },
    {
     "data": {
      "text/plain": [
       "array(['The Dark Knight', 'Interstellar', 'The Imitation Game',\n",
       "       'Inside Out', 'Room', 'The Wolf of Wall Street', 'Gone Girl',\n",
       "       '12 Years a Slave', 'Guardians of the Galaxy',\n",
       "       'The Lord of the Rings: The Return of the King', 'Memento',\n",
       "       'Inception', 'The Pianist', 'The Grand Budapest Hotel', 'Her',\n",
       "       'Spotlight', 'Big Hero 6', 'The Fault in Our Stars'], dtype=object)"
      ]
     },
     "metadata": {},
     "output_type": "display_data"
    }
   ],
   "source": [
    "one_percent_count = int(np.floor(0.01 * len(data))) # количество лучших фильмов, входящих в 1 процент\n",
    "print(one_percent_count)\n",
    "\n",
    "answers['26'] = data.sort_values(['vote_average'], ascending=False)['original_title'][:one_percent_count].values\n",
    "display(answers['26'])"
   ]
  },
  {
   "cell_type": "markdown",
   "metadata": {
    "colab_type": "text",
    "id": "MdXsUXbCVqAV"
   },
   "source": [
    "# 27. Какие актеры чаще всего снимаются в одном фильме вместе?\n"
   ]
  },
  {
   "cell_type": "code",
   "execution_count": 32,
   "metadata": {
    "colab_type": "text",
    "id": "4ymnxEVoVqAW"
   },
   "outputs": [
    {
     "data": {
      "text/plain": [
       "('Daniel Radcliffe', 'Rupert Grint')"
      ]
     },
     "metadata": {},
     "output_type": "display_data"
    }
   ],
   "source": [
    "pairs_counter = Counter() # счетчик всех пар актеров\n",
    "for cast_list in data['cast_list']:\n",
    "    for pairs in permutations(cast_list, 2):\n",
    "        pairs_counter[pairs] += 1\n",
    "\n",
    "answers['27'] = pairs_counter.most_common(1)[0][0]\n",
    "display(answers['27'])"
   ]
  },
  {
   "cell_type": "markdown",
   "metadata": {
    "colab_type": "text",
    "id": "U0nONFnGVqAX"
   },
   "source": [
    "# Submission"
   ]
  },
  {
   "cell_type": "code",
   "execution_count": 33,
   "metadata": {
    "colab": {},
    "colab_type": "code",
    "id": "IfcaRO9-VqAX",
    "outputId": "0f132912-32bb-4196-c98c-abfbc4ad5a5f"
   },
   "outputs": [
    {
     "data": {
      "text/plain": [
       "{'1': 'Pirates of the Caribbean: On Stranger Tides',\n",
       " '2': 'Gods and Generals',\n",
       " '3': 'Winnie the Pooh',\n",
       " '4': 110.0,\n",
       " '5': 107.0,\n",
       " '6': 'Avatar',\n",
       " '7': 'The Lone Ranger',\n",
       " '8': 1478,\n",
       " '9': 'The Dark Knight',\n",
       " '10': 'The Lone Ranger',\n",
       " '11': 'Drama',\n",
       " '12': 'Drama',\n",
       " '13': 'Peter Jackson',\n",
       " '14': 'Michael Bay',\n",
       " '15': 'Chris Hemsworth',\n",
       " '16': 'Matt Damon',\n",
       " '17': 'Action',\n",
       " '18': 'K-19: The Widowmaker',\n",
       " '19': 2015,\n",
       " '20': 2014,\n",
       " '21': 9,\n",
       " '22': 450,\n",
       " '23': 'Peter Jackson',\n",
       " '24': 'Four By Two Productions',\n",
       " '25': 'Midnight Picture Show',\n",
       " '26': array(['The Dark Knight', 'Interstellar', 'The Imitation Game',\n",
       "        'Inside Out', 'Room', 'The Wolf of Wall Street', 'Gone Girl',\n",
       "        '12 Years a Slave', 'Guardians of the Galaxy',\n",
       "        'The Lord of the Rings: The Return of the King', 'Memento',\n",
       "        'Inception', 'The Pianist', 'The Grand Budapest Hotel', 'Her',\n",
       "        'Spotlight', 'Big Hero 6', 'The Fault in Our Stars'], dtype=object),\n",
       " '27': ('Daniel Radcliffe', 'Rupert Grint')}"
      ]
     },
     "execution_count": 33,
     "metadata": {},
     "output_type": "execute_result"
    }
   ],
   "source": [
    "# в конце можно посмотреть свои ответы к каждому вопросу\n",
    "answers"
   ]
  },
  {
   "cell_type": "code",
   "execution_count": 34,
   "metadata": {
    "colab": {},
    "colab_type": "code",
    "id": "SiRmHPl8VqAd"
   },
   "outputs": [
    {
     "data": {
      "text/plain": [
       "27"
      ]
     },
     "execution_count": 34,
     "metadata": {},
     "output_type": "execute_result"
    }
   ],
   "source": [
    "# и убедиться что ни чего не пропустил)\n",
    "len(answers)"
   ]
  },
  {
   "cell_type": "code",
   "execution_count": null,
   "metadata": {
    "colab": {},
    "colab_type": "code",
    "id": "uCfuTkRbVqAg"
   },
   "outputs": [],
   "source": []
  },
  {
   "cell_type": "code",
   "execution_count": null,
   "metadata": {
    "colab": {},
    "colab_type": "code",
    "id": "Vwx3NrkSVqAl"
   },
   "outputs": [],
   "source": []
  }
 ],
 "metadata": {
  "colab": {
   "name": "Copy of [SF-DST] Movies IMBD v4.1 TEMPLATE.ipynb",
   "provenance": []
  },
  "kernelspec": {
   "display_name": "Python 3",
   "language": "python",
   "name": "python3"
  },
  "language_info": {
   "codemirror_mode": {
    "name": "ipython",
    "version": 3
   },
   "file_extension": ".py",
   "mimetype": "text/x-python",
   "name": "python",
   "nbconvert_exporter": "python",
   "pygments_lexer": "ipython3",
   "version": "3.7.4"
  }
 },
 "nbformat": 4,
 "nbformat_minor": 1
}
